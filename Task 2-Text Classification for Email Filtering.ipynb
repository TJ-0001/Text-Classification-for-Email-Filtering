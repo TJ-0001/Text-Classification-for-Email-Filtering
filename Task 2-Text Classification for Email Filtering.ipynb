{
 "cells": [
  {
   "cell_type": "code",
   "execution_count": 3,
   "id": "4fed1d9a-d9f9-4357-8dcb-8e323d0d52dc",
   "metadata": {},
   "outputs": [
    {
     "name": "stderr",
     "output_type": "stream",
     "text": [
      "[nltk_data] Downloading package stopwords to\n",
      "[nltk_data]     C:\\Users\\Taha\\AppData\\Roaming\\nltk_data...\n",
      "[nltk_data]   Package stopwords is already up-to-date!\n"
     ]
    }
   ],
   "source": [
    "# Import necessary libraries\n",
    "import pandas as pd\n",
    "import re\n",
    "import nltk\n",
    "from nltk.corpus import stopwords\n",
    "nltk.download('stopwords')\n",
    "from sklearn.feature_extraction.text import TfidfVectorizer\n",
    "from sklearn.linear_model import LogisticRegression\n",
    "from sklearn.model_selection import train_test_split,cross_val_score\n",
    "from sklearn.metrics import accuracy_score, precision_score, recall_score, f1_score, confusion_matrix\n",
    "import seaborn as sns\n",
    "import matplotlib.pyplot as plt\n",
    "import numpy as np"
   ]
  },
  {
   "cell_type": "markdown",
   "id": "77a8941e-86bf-4cb9-9e5f-b00919b3f51b",
   "metadata": {},
   "source": [
    "1. Data Loading"
   ]
  },
  {
   "cell_type": "code",
   "execution_count": 16,
   "id": "e3e399ba-00e1-4ff5-969e-5d8c69c857d2",
   "metadata": {},
   "outputs": [],
   "source": [
    "# Load the dataset into a pandas DataFrame.\n",
    "# The dataset includes columns such as Email_ID , Subject , Body , and Category (where Category indicates whether the email is \"Spam\" or\"Important\").\n",
    "# Display the first few rows of the dataset to understand its structure."
   ]
  },
  {
   "cell_type": "code",
   "execution_count": 4,
   "id": "b4da2256-d7ac-408e-850f-7455075e188a",
   "metadata": {},
   "outputs": [
    {
     "data": {
      "text/html": [
       "<div>\n",
       "<style scoped>\n",
       "    .dataframe tbody tr th:only-of-type {\n",
       "        vertical-align: middle;\n",
       "    }\n",
       "\n",
       "    .dataframe tbody tr th {\n",
       "        vertical-align: top;\n",
       "    }\n",
       "\n",
       "    .dataframe thead th {\n",
       "        text-align: right;\n",
       "    }\n",
       "</style>\n",
       "<table border=\"1\" class=\"dataframe\">\n",
       "  <thead>\n",
       "    <tr style=\"text-align: right;\">\n",
       "      <th></th>\n",
       "      <th>Email_ID</th>\n",
       "      <th>Subject</th>\n",
       "      <th>Body</th>\n",
       "      <th>Category</th>\n",
       "    </tr>\n",
       "  </thead>\n",
       "  <tbody>\n",
       "    <tr>\n",
       "      <th>0</th>\n",
       "      <td>1</td>\n",
       "      <td>Sale on Electronics</td>\n",
       "      <td>Get 50% off on all electronics today!</td>\n",
       "      <td>Spam</td>\n",
       "    </tr>\n",
       "    <tr>\n",
       "      <th>1</th>\n",
       "      <td>2</td>\n",
       "      <td>Meeting Reminder</td>\n",
       "      <td>Don’t forget the team meeting tomorrow at 10 AM.</td>\n",
       "      <td>Important</td>\n",
       "    </tr>\n",
       "    <tr>\n",
       "      <th>2</th>\n",
       "      <td>3</td>\n",
       "      <td>Win a Free Vacation</td>\n",
       "      <td>Claim your free vacation now! Click here!</td>\n",
       "      <td>Spam</td>\n",
       "    </tr>\n",
       "    <tr>\n",
       "      <th>3</th>\n",
       "      <td>4</td>\n",
       "      <td>Project Update</td>\n",
       "      <td>The latest project update is available on the ...</td>\n",
       "      <td>Important</td>\n",
       "    </tr>\n",
       "    <tr>\n",
       "      <th>4</th>\n",
       "      <td>5</td>\n",
       "      <td>Discount Offer</td>\n",
       "      <td>Exclusive 30% discount on your next purchase!</td>\n",
       "      <td>Spam</td>\n",
       "    </tr>\n",
       "  </tbody>\n",
       "</table>\n",
       "</div>"
      ],
      "text/plain": [
       "   Email_ID              Subject  \\\n",
       "0         1  Sale on Electronics   \n",
       "1         2     Meeting Reminder   \n",
       "2         3  Win a Free Vacation   \n",
       "3         4       Project Update   \n",
       "4         5       Discount Offer   \n",
       "\n",
       "                                                Body   Category  \n",
       "0              Get 50% off on all electronics today!       Spam  \n",
       "1   Don’t forget the team meeting tomorrow at 10 AM.  Important  \n",
       "2          Claim your free vacation now! Click here!       Spam  \n",
       "3  The latest project update is available on the ...  Important  \n",
       "4      Exclusive 30% discount on your next purchase!       Spam  "
      ]
     },
     "execution_count": 4,
     "metadata": {},
     "output_type": "execute_result"
    }
   ],
   "source": [
    "# Loading the file while skipping any bad lines and handling errors during parsing\n",
    "df = pd.read_csv('emails.csv', on_bad_lines=\"skip\")\n",
    "\n",
    "# Display the first few rows of the dataset after handling the error\n",
    "df.head()"
   ]
  },
  {
   "cell_type": "markdown",
   "id": "2fa05865-996a-41fc-8e1e-61088c199433",
   "metadata": {},
   "source": [
    "2.  Data Cleaning and Preprocessing"
   ]
  },
  {
   "cell_type": "code",
   "execution_count": 17,
   "id": "ca785aab-b0b4-4e8c-a4ae-71099710bf26",
   "metadata": {},
   "outputs": [],
   "source": [
    "# Missing Values: Identify and handle missing values in the Subject and Body columns.\n",
    "# Text Cleaning:\n",
    "    # Remove any unnecessary whitespace from the Subject and Body .\n",
    "    # Convert text to lowercase.\n",
    "    # Remove punctuation, numbers, and special characters.\n",
    "    # Tokenize the text (split into words).\n",
    "# Stop Words Removal: Optionally, remove common stop words that do not contribute to the classificatio"
   ]
  },
  {
   "cell_type": "code",
   "execution_count": 5,
   "id": "7bd3dfac-5811-46ee-b7a7-cc95a187ee07",
   "metadata": {},
   "outputs": [
    {
     "data": {
      "text/plain": [
       "Subject    0\n",
       "Body       0\n",
       "dtype: int64"
      ]
     },
     "execution_count": 5,
     "metadata": {},
     "output_type": "execute_result"
    }
   ],
   "source": [
    "# Checking for missing values in the Subject and Body columns\n",
    "missing_values = df[['Subject', 'Body']].isnull().sum()\n",
    "\n",
    "# Display missing values count\n",
    "missing_values\n"
   ]
  },
  {
   "cell_type": "code",
   "execution_count": 6,
   "id": "d766964e-6c1f-4da2-90df-b1e65e98642e",
   "metadata": {},
   "outputs": [
    {
     "data": {
      "text/html": [
       "<div>\n",
       "<style scoped>\n",
       "    .dataframe tbody tr th:only-of-type {\n",
       "        vertical-align: middle;\n",
       "    }\n",
       "\n",
       "    .dataframe tbody tr th {\n",
       "        vertical-align: top;\n",
       "    }\n",
       "\n",
       "    .dataframe thead th {\n",
       "        text-align: right;\n",
       "    }\n",
       "</style>\n",
       "<table border=\"1\" class=\"dataframe\">\n",
       "  <thead>\n",
       "    <tr style=\"text-align: right;\">\n",
       "      <th></th>\n",
       "      <th>text</th>\n",
       "      <th>Category</th>\n",
       "    </tr>\n",
       "  </thead>\n",
       "  <tbody>\n",
       "    <tr>\n",
       "      <th>0</th>\n",
       "      <td>sale electronics get electronics today</td>\n",
       "      <td>Spam</td>\n",
       "    </tr>\n",
       "    <tr>\n",
       "      <th>1</th>\n",
       "      <td>meeting reminder dont forget team meeting tomo...</td>\n",
       "      <td>Important</td>\n",
       "    </tr>\n",
       "    <tr>\n",
       "      <th>2</th>\n",
       "      <td>win free vacation claim free vacation click</td>\n",
       "      <td>Spam</td>\n",
       "    </tr>\n",
       "    <tr>\n",
       "      <th>3</th>\n",
       "      <td>project update latest project update available...</td>\n",
       "      <td>Important</td>\n",
       "    </tr>\n",
       "    <tr>\n",
       "      <th>4</th>\n",
       "      <td>discount offer exclusive discount next purchase</td>\n",
       "      <td>Spam</td>\n",
       "    </tr>\n",
       "  </tbody>\n",
       "</table>\n",
       "</div>"
      ],
      "text/plain": [
       "                                                text   Category\n",
       "0             sale electronics get electronics today       Spam\n",
       "1  meeting reminder dont forget team meeting tomo...  Important\n",
       "2        win free vacation claim free vacation click       Spam\n",
       "3  project update latest project update available...  Important\n",
       "4    discount offer exclusive discount next purchase       Spam"
      ]
     },
     "execution_count": 6,
     "metadata": {},
     "output_type": "execute_result"
    }
   ],
   "source": [
    "#Text Cleaning\n",
    "# Initialize stop words\n",
    "stop_words = set(stopwords.words('english'))\n",
    "\n",
    "# Function to clean text\n",
    "def clean_text(text):\n",
    "    # Convert text to lowercase\n",
    "    text = text.lower()\n",
    "    # Remove special characters, numbers, and punctuation\n",
    "    text = re.sub(r'[^a-z\\s]', '', text)\n",
    "    # Tokenize the text\n",
    "    words = text.split()\n",
    "    # Remove stop words (optional)\n",
    "    words = [word for word in words if word not in stop_words]\n",
    "    return ' '.join(words)\n",
    "\n",
    "# Apply the cleaning function to both Subject and Body\n",
    "df['cleaned_subject'] = df['Subject'].apply(clean_text)\n",
    "df['cleaned_body'] = df['Body'].apply(clean_text)\n",
    "\n",
    "# Combine cleaned_subject and cleaned_body\n",
    "df['text'] = df['cleaned_subject'] + ' ' + df['cleaned_body']\n",
    "\n",
    "# Show cleaned data\n",
    "df[['text', 'Category']].head()"
   ]
  },
  {
   "cell_type": "markdown",
   "id": "93937700-4ef8-49c3-9a81-92eaeaa3f70d",
   "metadata": {},
   "source": [
    "3. Feature Extraction"
   ]
  },
  {
   "cell_type": "code",
   "execution_count": 18,
   "id": "fb3dea7c-b33f-418a-9cb6-7f0b5c7eeb29",
   "metadata": {},
   "outputs": [],
   "source": [
    "# Text Vectorization: Convert the cleaned text data into numerical format using techniques such as:\n",
    "    # Bag of Words (BoW): Represents text data as a matrix of token counts.\n",
    "    # Term Frequency-Inverse Document Frequency (TF-IDF): Represents text data by highlighting important words.\n",
    "# Choose the most suitable vectorization method based on your analysis"
   ]
  },
  {
   "cell_type": "code",
   "execution_count": 7,
   "id": "d5f84859-b0bc-4a5a-aef1-d5bf6182cae0",
   "metadata": {},
   "outputs": [
    {
     "name": "stdout",
     "output_type": "stream",
     "text": [
      "['account' 'act' 'activity' 'advantage' 'agenda' 'alert' 'announce'\n",
      " 'announcement' 'annual' 'another' 'apparel' 'appliances' 'application'\n",
      " 'apply' 'appointment' 'appreciate' 'approaching' 'arrivals' 'arrive'\n",
      " 'attached' 'available' 'back' 'big' 'buy' 'card' 'chance' 'changes'\n",
      " 'check' 'claim' 'click' 'client' 'clothing' 'code' 'company'\n",
      " 'confirmation' 'confirmed' 'congratulations' 'contact' 'contest' 'credit'\n",
      " 'customer' 'customers' 'data' 'date' 'days' 'deadline' 'deal' 'deals'\n",
      " 'details' 'detected' 'development' 'discount' 'discounts' 'discover'\n",
      " 'document' 'dont' 'download' 'due' 'electronics' 'ending' 'ends' 'enjoy'\n",
      " 'enter' 'event' 'excited' 'exclusive' 'experience' 'explore' 'extended'\n",
      " 'extension' 'extra' 'fast' 'feature' 'feedback' 'fill' 'final'\n",
      " 'financial' 'first' 'flash' 'following' 'followup' 'forget' 'free'\n",
      " 'friday' 'get' 'gift' 'great' 'happening' 'help' 'hiring' 'home' 'huge'\n",
      " 'important' 'improve' 'information' 'insurance' 'interview' 'intranet'\n",
      " 'introductory' 'investment' 'invitation' 'invite' 'invited' 'invoice'\n",
      " 'issue' 'item' 'items' 'job' 'join' 'laptop' 'last' 'late' 'latest'\n",
      " 'launch' 'limited' 'limitedtime' 'live' 'loyal' 'made' 'make' 'manager'\n",
      " 'marketing' 'meeting' 'member' 'members' 'membership' 'miss' 'money'\n",
      " 'month' 'monthly' 'need' 'needed' 'new' 'news' 'newsletter' 'next'\n",
      " 'notes' 'notice' 'noticed' 'notification' 'offer' 'one' 'ongoing'\n",
      " 'online' 'opening' 'opportunities' 'order' 'orders' 'overdue' 'package'\n",
      " 'part' 'participate' 'participating' 'patience' 'payment' 'performance'\n",
      " 'placed' 'plans' 'platform' 'please' 'pm' 'policies' 'policy' 'possible'\n",
      " 'premium' 'prize' 'processed' 'product' 'products' 'professional'\n",
      " 'program' 'project' 'promo' 'promotion' 'promotional' 'provide'\n",
      " 'purchase' 'purchases' 'quarterly' 'quick' 'ready' 'receipt' 'receive'\n",
      " 'received' 'recent' 'regarding' 'register' 'registration' 'release'\n",
      " 'released' 'reminder' 'renew' 'renewal' 'report' 'request' 'resolved'\n",
      " 'returning' 'review' 'reviewed' 'reviewing' 'rich' 'sale' 'sample'\n",
      " 'satisfaction' 'saturday' 'save' 'scheduled' 'scheme' 'science'\n",
      " 'seasonal' 'security' 'see' 'select' 'service' 'session' 'settings'\n",
      " 'shipped' 'shipping' 'shop' 'shopping' 'sign' 'signing' 'software' 'soon'\n",
      " 'special' 'start' 'starts' 'statement' 'status' 'store' 'strategies'\n",
      " 'subscribe' 'subscribers' 'subscribing' 'subscription' 'subscriptions'\n",
      " 'successfully' 'summary' 'support' 'survey' 'take' 'team' 'terms' 'thank'\n",
      " 'thursday' 'ticket' 'time' 'tips' 'today' 'tomorrow' 'tomorrows'\n",
      " 'training' 'transaction' 'trends' 'trial' 'tuesday' 'two' 'unusual'\n",
      " 'upcoming' 'update' 'updated' 'updates' 'us' 'use' 'users' 'vacation'\n",
      " 'value' 'vip' 'way' 'webinar' 'website' 'wed' 'wednesday' 'week'\n",
      " 'weekend' 'weve' 'win' 'work' 'workshop' 'would' 'youre' 'youve']\n"
     ]
    }
   ],
   "source": [
    "# Initialize TF-IDF vectorizer\n",
    "tfidf_vectorizer = TfidfVectorizer(max_features=1000)\n",
    "\n",
    "# Fit and transform the text data\n",
    "X = tfidf_vectorizer.fit_transform(df['text'])\n",
    "\n",
    "# Define target variable\n",
    "y = df['Category']\n",
    "\n",
    "# Display feature names\n",
    "print(tfidf_vectorizer.get_feature_names_out())"
   ]
  },
  {
   "cell_type": "markdown",
   "id": "d3116ada-38fc-4e82-bb3c-3b742c5fb84b",
   "metadata": {},
   "source": [
    "4. Data Splitting"
   ]
  },
  {
   "cell_type": "code",
   "execution_count": 19,
   "id": "10dcc33e-0a30-4fe8-99dd-cbd67db2fe29",
   "metadata": {},
   "outputs": [],
   "source": [
    "# Split the dataset into training and testing sets (e.g., 80% training, 20% testing).\n",
    "# Ensure that the split maintains the balance of categories."
   ]
  },
  {
   "cell_type": "code",
   "execution_count": 9,
   "id": "f5a6b0e8-4d13-4bfe-b738-16dcdbae2b8a",
   "metadata": {},
   "outputs": [],
   "source": [
    "# Split the data into training and testing sets\n",
    "X_train, X_test, y_train, y_test = train_test_split(X, y, test_size=0.2, random_state=42)"
   ]
  },
  {
   "cell_type": "markdown",
   "id": "2ad6b3da-e6f8-4f5f-9375-22e525270df8",
   "metadata": {},
   "source": [
    "5. Model Building"
   ]
  },
  {
   "cell_type": "code",
   "execution_count": 20,
   "id": "04acbd46-9a79-4619-95ce-11532b15d423",
   "metadata": {},
   "outputs": [],
   "source": [
    "# Model Selection: Choose a classification algorithm such as:\n",
    "    # Logistic Regression\n",
    "    # Naive Bayes\n",
    "    # Support Vector Machine (SVM)\n",
    "    # Random Forest\n",
    "# Training: Train the model using the training dataset.\n",
    "# Hyperparameter Tuning: Optionally, use techniques like Grid Search or Random Search to find the best hyperparameters for your model."
   ]
  },
  {
   "cell_type": "code",
   "execution_count": 10,
   "id": "1db23fd2-74d3-4d5c-b59f-07b8135b4003",
   "metadata": {},
   "outputs": [
    {
     "name": "stdout",
     "output_type": "stream",
     "text": [
      "['Important' 'Important' 'Spam' 'Spam' 'Important' 'Important' 'Important'\n",
      " 'Spam' 'Important' 'Spam' 'Important' 'Spam' 'Spam' 'Important' 'Spam'\n",
      " 'Important' 'Important' 'Important' 'Spam' 'Important' 'Spam' 'Spam'\n",
      " 'Spam' 'Important' 'Important' 'Spam' 'Important' 'Important' 'Important'\n",
      " 'Spam' 'Important' 'Important' 'Important' 'Spam' 'Spam' 'Spam'\n",
      " 'Important' 'Important' 'Spam' 'Spam' 'Important' 'Important']\n"
     ]
    }
   ],
   "source": [
    "# Initialize and train the Logistic Regression model\n",
    "reg = LogisticRegression(random_state=42)\n",
    "reg.fit(X_train, y_train)\n",
    "\n",
    "# Make predictions\n",
    "y_pred = reg.predict(X_test)\n",
    "print(y_pred)"
   ]
  },
  {
   "cell_type": "markdown",
   "id": "9900394e-9c0d-4405-b78a-9007bb0fbee4",
   "metadata": {},
   "source": [
    "6. Model Evaluation"
   ]
  },
  {
   "cell_type": "code",
   "execution_count": 21,
   "id": "0478f55f-46f9-4ab8-af9d-393ced7ff14c",
   "metadata": {},
   "outputs": [],
   "source": [
    "# Performance Metrics: Evaluate the model’s performance using metrics such as:\n",
    "    # Accuracy\n",
    "    # Precision\n",
    "    # Recall\n",
    "    # F1 Score\n",
    "    # Confusion Matrix\n",
    "# Cross-Validation: Optionally, perform cross-validation to ensure the robustness of your model."
   ]
  },
  {
   "cell_type": "code",
   "execution_count": 13,
   "id": "900c01d0-f26d-4b46-a48b-0bb94155f559",
   "metadata": {},
   "outputs": [
    {
     "name": "stdout",
     "output_type": "stream",
     "text": [
      "Accuracy:  0.9285714285714286\n",
      "Precision:  0.875\n",
      "Recall:  1.0\n",
      "F1 Score:  0.9333333333333333\n"
     ]
    },
    {
     "data": {
      "image/png": "[encoded data removed]",
      "text/plain": [
       "<Figure size 640x480 with 2 Axes>"
      ]
     },
     "metadata": {},
     "output_type": "display_data"
    },
    {
     "name": "stdout",
     "output_type": "stream",
     "text": [
      "Cross-Validation Accuracies:  [0.90909091 0.96969697 0.96969697 0.93939394 0.9375    ]\n",
      "Mean Cross-Validation Accuracy:  0.9450757575757576\n"
     ]
    },
    {
     "data": {
      "text/plain": [
       "<Figure size 640x480 with 0 Axes>"
      ]
     },
     "metadata": {},
     "output_type": "display_data"
    }
   ],
   "source": [
    "# Calculate performance metrics\n",
    "accuracy = accuracy_score(y_test, y_pred)\n",
    "precision = precision_score(y_test, y_pred, pos_label='Important')\n",
    "recall = recall_score(y_test, y_pred, pos_label='Important')\n",
    "f1 = f1_score(y_test, y_pred, pos_label='Important')\n",
    "\n",
    "# Display metrics\n",
    "print('Accuracy: ',accuracy)\n",
    "print('Precision: ',precision)\n",
    "print('Recall: ',recall)\n",
    "print('F1 Score: ',f1)\n",
    "\n",
    "# Confusion Matrix\n",
    "conf_matrix = confusion_matrix(y_test, y_pred)\n",
    "sns.heatmap(conf_matrix, annot=True, fmt='d', cmap='Blues', xticklabels=['Spam', 'Important'], yticklabels=['Spam', 'Important'])\n",
    "plt.title('Confusion Matrix')\n",
    "plt.show()\n",
    "\n",
    "# Save the confusion matrix as an image\n",
    "plt.savefig('confusion_matrix.png')\n",
    "\n",
    "# Perform 5-fold cross-validation\n",
    "cv_scores = cross_val_score(reg, X_train, y_train, cv=5, scoring='accuracy')\n",
    "\n",
    "# Display the accuracy for each fold\n",
    "print('Cross-Validation Accuracies: ',cv_scores)\n",
    "\n",
    "# Calculate and display the mean accuracy\n",
    "mean_cv_accuracy = cv_scores.mean()\n",
    "print('Mean Cross-Validation Accuracy: ',mean_cv_accuracy)"
   ]
  },
  {
   "cell_type": "markdown",
   "id": "a004443b-243c-409b-9849-adb81fa8c95e",
   "metadata": {},
   "source": [
    "7. Model Interpretation"
   ]
  },
  {
   "cell_type": "code",
   "execution_count": 22,
   "id": "dd88b6b1-3c01-44a8-ade9-5160de11b5e2",
   "metadata": {},
   "outputs": [],
   "source": [
    "# Feature Importance: Analyze the most important features (words) used by the model to classify emails.\n",
    "# Misclassifications: Review some of the misclassified emails to understand potential reasons for errors."
   ]
  },
  {
   "cell_type": "code",
   "execution_count": 15,
   "id": "9c0bfd7d-33a8-4400-ba59-7c095702b85b",
   "metadata": {},
   "outputs": [
    {
     "name": "stdout",
     "output_type": "stream",
     "text": [
      "Top 10 words indicating 'Important' emails:\n",
      "       Feature  Importance\n",
      "201       sale    1.687521\n",
      "82        free    1.624478\n",
      "65   exclusive    1.518438\n",
      "224    special    1.310458\n",
      "51    discount    1.163364\n",
      "140      offer    1.015297\n",
      "84         get    0.973571\n",
      "78       flash    0.925162\n",
      "85        gift    0.741680\n",
      "248      today    0.739124\n",
      "\n",
      "Top 10 words indicating 'Spam' emails:\n",
      "          Feature  Importance\n",
      "103       invoice   -0.737551\n",
      "259        update   -0.755936\n",
      "129       monthly   -0.804148\n",
      "197        review   -0.868423\n",
      "34   confirmation   -0.926589\n",
      "258      upcoming   -0.957478\n",
      "184        recent   -0.965761\n",
      "122       meeting   -1.005978\n",
      "190      reminder   -1.017361\n",
      "0         account   -1.078603\n",
      "Examples of misclassified emails:\n",
      "Subject:  {'Special Sale Event'}\n",
      "Actual:  {'Spam'} Predicted:  {'Important'}\n",
      "Body:  Join our special sale event and save big!\n",
      "--------------------------------------------------\n",
      "Subject:  {'Monthly Newsletter'}\n",
      "Actual:  {'Spam'} Predicted:  {'Important'}\n",
      "Body:  Here is our monthly newsletter with updates and news.\n",
      "--------------------------------------------------\n",
      "Subject:  {'Project Deadline Reminder'}\n",
      "Actual:  {'Spam'} Predicted:  {'Important'}\n",
      "Body:  Reminder: The deadline for the project is approaching.\n",
      "--------------------------------------------------\n"
     ]
    }
   ],
   "source": [
    "#Feature Importance\n",
    "# Get the feature names (words) from the TF-IDF vectorizer\n",
    "feature_names = tfidf_vectorizer.get_feature_names_out()\n",
    "\n",
    "# Get the coefficients from the trained Logistic Regression model\n",
    "coefficients = reg.coef_.flatten()\n",
    "\n",
    "# Create a DataFrame to show the words with their corresponding coefficients\n",
    "feature_importance = pd.DataFrame({'Feature': feature_names, 'Importance': coefficients})\n",
    "\n",
    "# Sort by importance (highest to lowest)\n",
    "feature_importance = feature_importance.sort_values(by='Importance', ascending=False)\n",
    "\n",
    "# Display the top 10 most important words for classification\n",
    "print(\"Top 10 words indicating 'Important' emails:\")\n",
    "print(feature_importance.head(10))\n",
    "\n",
    "print(\"\\nTop 10 words indicating 'Spam' emails:\")\n",
    "print(feature_importance.tail(10))\n",
    "\n",
    "# Misclassification\n",
    "# Identify misclassified emails\n",
    "misclassified_indices = np.where(y_pred != y_test)[0]\n",
    "\n",
    "# Display a few misclassified examples\n",
    "print(\"Examples of misclassified emails:\")\n",
    "for i in misclassified_indices[:5]:  # Display the first 5 misclassified examples\n",
    "    print('Subject: ',{df.iloc[i]['Subject']})\n",
    "    print('Actual: ',{y_test.iloc[i]}, 'Predicted: ', {y_pred[i]})\n",
    "    print('Body: ', df.iloc[i]['Body'])\n",
    "    print(\"-\" * 50)\n"
   ]
  },
  {
   "cell_type": "code",
   "execution_count": 24,
   "id": "3b866644-02b3-443c-a013-5637d70dae05",
   "metadata": {},
   "outputs": [
    {
     "data": {
      "text/plain": [
       "'cleaned_emails.csv'"
      ]
     },
     "execution_count": 24,
     "metadata": {},
     "output_type": "execute_result"
    }
   ],
   "source": [
    "# Save the cleaned and preprocessed dataset to a new CSV file\n",
    "cleaned_csv_path = 'cleaned_emails.csv'\n",
    "df[['Email_ID', 'text', 'Category']].to_csv(cleaned_csv_path, index=False)\n",
    "\n",
    "# Provide the path for download\n",
    "cleaned_csv_path\n"
   ]
  },
  {
   "cell_type": "code",
   "execution_count": null,
   "id": "28bffa4b-c6d3-4524-ac43-15f2d8fc1254",
   "metadata": {},
   "outputs": [],
   "source": []
  }
 ],
 "metadata": {
  "kernelspec": {
   "display_name": "Python 3 (ipykernel)",
   "language": "python",
   "name": "python3"
  },
  "language_info": {
   "codemirror_mode": {
    "name": "ipython",
    "version": 3
   },
   "file_extension": ".py",
   "mimetype": "text/x-python",
   "name": "python",
   "nbconvert_exporter": "python",
   "pygments_lexer": "ipython3",
   "version": "3.12.6"
  }
 },
 "nbformat": 4,
 "nbformat_minor": 5
}
